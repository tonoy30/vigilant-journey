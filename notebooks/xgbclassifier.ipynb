{
 "cells": [
  {
   "cell_type": "code",
   "execution_count": 1,
   "id": "0477ed4a-1cf6-4164-b069-177d9cdce227",
   "metadata": {},
   "outputs": [],
   "source": [
    "import os\n",
    "import sys\n",
    "import numpy as np\n",
    "import pandas as pd\n",
    "import seaborn as sns\n",
    "import matplotlib.pyplot as plt\n",
    "import warnings;warnings.filterwarnings('ignore')"
   ]
  },
  {
   "cell_type": "code",
   "execution_count": 2,
   "id": "b3eed91f-50ce-4516-869f-e55a7378563d",
   "metadata": {},
   "outputs": [],
   "source": [
    "from xgboost import XGBClassifier\n",
    "from sklearn.compose import make_column_selector as selector\n",
    "from sklearn.preprocessing import LabelEncoder, StandardScaler, OneHotEncoder, OrdinalEncoder \n",
    "from sklearn.compose import ColumnTransformer\n",
    "from sklearn.pipeline import make_pipeline\n",
    "from sklearn.model_selection import KFold\n",
    "from sklearn.pipeline import make_pipeline\n",
    "from sklearn.model_selection import GridSearchCV, train_test_split\n",
    "from sklearn import metrics\n",
    "from sklearn.metrics import roc_auc_score\n",
    "from sklearn import set_config\n",
    "set_config(display='diagram')"
   ]
  },
  {
   "cell_type": "code",
   "execution_count": 3,
   "id": "21cee5af-d2d1-4336-9da8-f864d7bd1c65",
   "metadata": {},
   "outputs": [],
   "source": [
    "# set seed for reproducibility\n",
    "SEED = 30\n",
    "np.random.seed(SEED)"
   ]
  },
  {
   "cell_type": "code",
   "execution_count": 4,
   "id": "6ee82f4e-edcc-4b9e-852c-d9d44e51951f",
   "metadata": {},
   "outputs": [
    {
     "name": "stdout",
     "output_type": "stream",
     "text": [
      "Train data shape: (28322, 35), Test data shape: (85065, 34)\n"
     ]
    }
   ],
   "source": [
    "train = pd.read_csv('../data/train.csv').drop(['id'], axis=1)\n",
    "test = pd.read_csv('../data/test.csv').drop(['id'], axis=1)\n",
    "print(f'Train data shape: {train.shape}, Test data shape: {test.shape}')"
   ]
  },
  {
   "cell_type": "code",
   "execution_count": 5,
   "id": "053c30d8-4936-4db7-aabc-ede492e8d2d4",
   "metadata": {},
   "outputs": [
    {
     "data": {
      "text/html": [
       "<div>\n",
       "<style scoped>\n",
       "    .dataframe tbody tr th:only-of-type {\n",
       "        vertical-align: middle;\n",
       "    }\n",
       "\n",
       "    .dataframe tbody tr th {\n",
       "        vertical-align: top;\n",
       "    }\n",
       "\n",
       "    .dataframe thead th {\n",
       "        text-align: right;\n",
       "    }\n",
       "</style>\n",
       "<table border=\"1\" class=\"dataframe\">\n",
       "  <thead>\n",
       "    <tr style=\"text-align: right;\">\n",
       "      <th></th>\n",
       "      <th>gender</th>\n",
       "      <th>s11</th>\n",
       "      <th>s12</th>\n",
       "      <th>s13</th>\n",
       "      <th>s16</th>\n",
       "      <th>s17</th>\n",
       "      <th>s18</th>\n",
       "      <th>s48</th>\n",
       "      <th>s52</th>\n",
       "      <th>s53</th>\n",
       "      <th>...</th>\n",
       "      <th>n7</th>\n",
       "      <th>n8</th>\n",
       "      <th>n9</th>\n",
       "      <th>n10</th>\n",
       "      <th>n11</th>\n",
       "      <th>n12</th>\n",
       "      <th>n13</th>\n",
       "      <th>n14</th>\n",
       "      <th>n15</th>\n",
       "      <th>label</th>\n",
       "    </tr>\n",
       "  </thead>\n",
       "  <tbody>\n",
       "    <tr>\n",
       "      <th>0</th>\n",
       "      <td>M</td>\n",
       "      <td>Y</td>\n",
       "      <td>N</td>\n",
       "      <td>1</td>\n",
       "      <td>D</td>\n",
       "      <td>D</td>\n",
       "      <td>B</td>\n",
       "      <td>0</td>\n",
       "      <td>1</td>\n",
       "      <td></td>\n",
       "      <td>...</td>\n",
       "      <td>-9.126056</td>\n",
       "      <td>1.732291</td>\n",
       "      <td>3.698504</td>\n",
       "      <td>4.804517</td>\n",
       "      <td>1.544484</td>\n",
       "      <td>0</td>\n",
       "      <td>0</td>\n",
       "      <td>0.631220</td>\n",
       "      <td>5</td>\n",
       "      <td>0.0</td>\n",
       "    </tr>\n",
       "    <tr>\n",
       "      <th>1</th>\n",
       "      <td>M</td>\n",
       "      <td>Y</td>\n",
       "      <td>Y</td>\n",
       "      <td>1</td>\n",
       "      <td>D</td>\n",
       "      <td>D</td>\n",
       "      <td>B</td>\n",
       "      <td>1</td>\n",
       "      <td>1</td>\n",
       "      <td></td>\n",
       "      <td>...</td>\n",
       "      <td>-9.098287</td>\n",
       "      <td>1.505885</td>\n",
       "      <td>6.791357</td>\n",
       "      <td>6.110416</td>\n",
       "      <td>1.712354</td>\n",
       "      <td>0</td>\n",
       "      <td>0</td>\n",
       "      <td>0.392746</td>\n",
       "      <td>3</td>\n",
       "      <td>1.0</td>\n",
       "    </tr>\n",
       "    <tr>\n",
       "      <th>2</th>\n",
       "      <td>M</td>\n",
       "      <td>Y</td>\n",
       "      <td>Y</td>\n",
       "      <td>1</td>\n",
       "      <td>D</td>\n",
       "      <td>D</td>\n",
       "      <td>B</td>\n",
       "      <td>0</td>\n",
       "      <td>1</td>\n",
       "      <td></td>\n",
       "      <td>...</td>\n",
       "      <td>-9.234894</td>\n",
       "      <td>1.503828</td>\n",
       "      <td>4.109685</td>\n",
       "      <td>3.953226</td>\n",
       "      <td>1.804260</td>\n",
       "      <td>0</td>\n",
       "      <td>0</td>\n",
       "      <td>0.222537</td>\n",
       "      <td>2</td>\n",
       "      <td>0.0</td>\n",
       "    </tr>\n",
       "    <tr>\n",
       "      <th>3</th>\n",
       "      <td>F</td>\n",
       "      <td>Y</td>\n",
       "      <td>Y</td>\n",
       "      <td>1</td>\n",
       "      <td>D</td>\n",
       "      <td>D</td>\n",
       "      <td>B</td>\n",
       "      <td>0</td>\n",
       "      <td>1</td>\n",
       "      <td></td>\n",
       "      <td>...</td>\n",
       "      <td>-9.378025</td>\n",
       "      <td>1.485863</td>\n",
       "      <td>7.265876</td>\n",
       "      <td>4.559419</td>\n",
       "      <td>1.537645</td>\n",
       "      <td>0</td>\n",
       "      <td>0</td>\n",
       "      <td>0.154409</td>\n",
       "      <td>4</td>\n",
       "      <td>0.0</td>\n",
       "    </tr>\n",
       "    <tr>\n",
       "      <th>4</th>\n",
       "      <td>M</td>\n",
       "      <td>N</td>\n",
       "      <td>Y</td>\n",
       "      <td>1</td>\n",
       "      <td>B</td>\n",
       "      <td>D</td>\n",
       "      <td>D</td>\n",
       "      <td>1</td>\n",
       "      <td>l</td>\n",
       "      <td></td>\n",
       "      <td>...</td>\n",
       "      <td>-9.261962</td>\n",
       "      <td>1.619210</td>\n",
       "      <td>3.737647</td>\n",
       "      <td>4.052003</td>\n",
       "      <td>1.637831</td>\n",
       "      <td>0</td>\n",
       "      <td>1</td>\n",
       "      <td>0.737560</td>\n",
       "      <td>1</td>\n",
       "      <td>0.0</td>\n",
       "    </tr>\n",
       "  </tbody>\n",
       "</table>\n",
       "<p>5 rows × 35 columns</p>\n",
       "</div>"
      ],
      "text/plain": [
       "  gender s11 s12  s13 s16 s17 s18  s48 s52 s53  ...        n7        n8  \\\n",
       "0      M   Y   N    1   D   D   B    0   1      ... -9.126056  1.732291   \n",
       "1      M   Y   Y    1   D   D   B    1   1      ... -9.098287  1.505885   \n",
       "2      M   Y   Y    1   D   D   B    0   1      ... -9.234894  1.503828   \n",
       "3      F   Y   Y    1   D   D   B    0   1      ... -9.378025  1.485863   \n",
       "4      M   N   Y    1   B   D   D    1   l      ... -9.261962  1.619210   \n",
       "\n",
       "         n9       n10       n11  n12 n13       n14 n15  label  \n",
       "0  3.698504  4.804517  1.544484    0   0  0.631220   5    0.0  \n",
       "1  6.791357  6.110416  1.712354    0   0  0.392746   3    1.0  \n",
       "2  4.109685  3.953226  1.804260    0   0  0.222537   2    0.0  \n",
       "3  7.265876  4.559419  1.537645    0   0  0.154409   4    0.0  \n",
       "4  3.737647  4.052003  1.637831    0   1  0.737560   1    0.0  \n",
       "\n",
       "[5 rows x 35 columns]"
      ]
     },
     "execution_count": 5,
     "metadata": {},
     "output_type": "execute_result"
    }
   ],
   "source": [
    "df = pd.concat([train, test])\n",
    "df.head()"
   ]
  },
  {
   "cell_type": "code",
   "execution_count": 6,
   "id": "a7d27c93-a05e-43e2-bf95-f94d91ef0df2",
   "metadata": {},
   "outputs": [
    {
     "name": "stdout",
     "output_type": "stream",
     "text": [
      "<class 'pandas.core.frame.DataFrame'>\n",
      "Int64Index: 113387 entries, 0 to 85064\n",
      "Data columns (total 35 columns):\n",
      " #   Column  Non-Null Count   Dtype  \n",
      "---  ------  --------------   -----  \n",
      " 0   gender  113387 non-null  object \n",
      " 1   s11     113387 non-null  object \n",
      " 2   s12     113387 non-null  object \n",
      " 3   s13     113387 non-null  int64  \n",
      " 4   s16     113387 non-null  object \n",
      " 5   s17     113387 non-null  object \n",
      " 6   s18     113387 non-null  object \n",
      " 7   s48     113387 non-null  int64  \n",
      " 8   s52     113387 non-null  object \n",
      " 9   s53     113387 non-null  object \n",
      " 10  s54     10371 non-null   object \n",
      " 11  s55     12627 non-null   object \n",
      " 12  s56     0 non-null       float64\n",
      " 13  s57     0 non-null       float64\n",
      " 14  s58     113387 non-null  object \n",
      " 15  s59     0 non-null       float64\n",
      " 16  s69     113387 non-null  object \n",
      " 17  s70     113387 non-null  object \n",
      " 18  s71     113387 non-null  object \n",
      " 19  n1      113387 non-null  float64\n",
      " 20  n2      113387 non-null  float64\n",
      " 21  n3      113387 non-null  int64  \n",
      " 22  n4      113387 non-null  float64\n",
      " 23  n5      113387 non-null  float64\n",
      " 24  n6      113387 non-null  float64\n",
      " 25  n7      113387 non-null  float64\n",
      " 26  n8      113387 non-null  float64\n",
      " 27  n9      113387 non-null  float64\n",
      " 28  n10     113387 non-null  float64\n",
      " 29  n11     113387 non-null  float64\n",
      " 30  n12     113387 non-null  int64  \n",
      " 31  n13     113387 non-null  int64  \n",
      " 32  n14     113387 non-null  float64\n",
      " 33  n15     113387 non-null  int64  \n",
      " 34  label   28322 non-null   float64\n",
      "dtypes: float64(15), int64(6), object(14)\n",
      "memory usage: 31.1+ MB\n"
     ]
    }
   ],
   "source": [
    "df.info()"
   ]
  },
  {
   "cell_type": "code",
   "execution_count": 7,
   "id": "3fa3a6a6-0d37-45cc-9394-8dffee4baeea",
   "metadata": {},
   "outputs": [],
   "source": [
    "dummy = ['s12','s13','s53','s58','n4','n11','n12','n13','n14','n15','s54','s55','s56','s57','s59']\n",
    "df.drop(dummy, axis=1, inplace=True)"
   ]
  },
  {
   "cell_type": "code",
   "execution_count": 8,
   "id": "55b9646a-95f2-4cce-bcc1-7ec0f51a2ec6",
   "metadata": {},
   "outputs": [],
   "source": [
    "df['s48'] = df['s48'].astype(object)"
   ]
  },
  {
   "cell_type": "markdown",
   "id": "b795e1eb-d677-4ffe-b525-86f4da86f572",
   "metadata": {},
   "source": [
    "# Train test split"
   ]
  },
  {
   "cell_type": "code",
   "execution_count": 9,
   "id": "83b604de-643a-4016-8ba6-8c9b1b124b91",
   "metadata": {},
   "outputs": [],
   "source": [
    "dtrain = df[df['label'].notna()]\n",
    "dtest = df[df['label'].isna()]\n",
    "\n",
    "X = dtrain.drop('label', axis=1)\n",
    "y = dtrain['label']\n",
    "\n",
    "test = dtest.drop('label', axis=1)\n",
    "\n",
    "X_train, X_test, y_train, y_test = train_test_split(X, y, test_size=0.2, random_state=SEED, shuffle=True)"
   ]
  },
  {
   "cell_type": "markdown",
   "id": "0623806b-4515-49f4-8aed-8b22d83a07ce",
   "metadata": {},
   "source": [
    "# Get numerical & categorical columns"
   ]
  },
  {
   "cell_type": "code",
   "execution_count": 10,
   "id": "f01bf75a-d712-45cf-8401-94a9c0ecf0af",
   "metadata": {},
   "outputs": [
    {
     "name": "stdout",
     "output_type": "stream",
     "text": [
      "Numerical: ['n1', 'n2', 'n3', 'n5', 'n6', 'n7', 'n8', 'n9', 'n10'] \n",
      "Categorical: ['gender', 's11', 's16', 's17', 's18', 's48', 's52', 's69', 's70', 's71']\n"
     ]
    }
   ],
   "source": [
    "numerical_columns_selector = selector(dtype_exclude=object)\n",
    "categorical_columns_selector = selector(dtype_include=object)\n",
    "\n",
    "numerical_columns = numerical_columns_selector(df)\n",
    "numerical_columns.remove('label')\n",
    "categorical_columns = categorical_columns_selector(df)\n",
    "print(f'Numerical: {numerical_columns} \\nCategorical: {categorical_columns}')"
   ]
  },
  {
   "cell_type": "code",
   "execution_count": 11,
   "id": "9255acee-0b16-426e-91e8-36c8cbe2f960",
   "metadata": {},
   "outputs": [],
   "source": [
    "categorical_preprocessor = OrdinalEncoder()\n",
    "numerical_preprocessor = StandardScaler()"
   ]
  },
  {
   "cell_type": "code",
   "execution_count": 12,
   "id": "f5a40e8f-df62-4c33-8e21-8e6cd58895b3",
   "metadata": {},
   "outputs": [],
   "source": [
    "preprocessor = ColumnTransformer([\n",
    "    ('label-encoder', categorical_preprocessor, categorical_columns),\n",
    "    ('standard_scaler', numerical_preprocessor, numerical_columns)])"
   ]
  },
  {
   "cell_type": "code",
   "execution_count": 13,
   "id": "d012f630-39f1-478d-b6b3-4980ecd3c80c",
   "metadata": {},
   "outputs": [],
   "source": [
    "# A parameter grid for XGBoost\n",
    "params = {\n",
    "        'min_child_weight': [1, 5, 10],\n",
    "        'gamma': [0.5, 1, 1.5, 2, 5],\n",
    "        'subsample': [0.6, 0.8, 1.0],\n",
    "        'colsample_bytree': [0.6, 0.8, 1.0],\n",
    "        'max_depth': [3, 5, 7, 10],\n",
    "        'learning_rate': [0.01, 0.02, 0.05],\n",
    "        'n_estimators': [800, 1000, 1500]\n",
    "}\n",
    "best_params = {\n",
    "        'min_child_weight': [5],\n",
    "        'gamma': [0.5],\n",
    "        'subsample': [0.6],\n",
    "        'colsample_bytree': [0.6],\n",
    "        'max_depth': [5],\n",
    "        'learning_rate': [0.01]    \n",
    "}"
   ]
  },
  {
   "cell_type": "code",
   "execution_count": 14,
   "id": "5732ec37-22be-4d80-88c2-7e0c7499cfb6",
   "metadata": {},
   "outputs": [],
   "source": [
    "cv = KFold(n_splits=2, random_state=SEED, shuffle=True)"
   ]
  },
  {
   "cell_type": "code",
   "execution_count": 15,
   "id": "d37ba3c6-08f6-4a3d-bda4-06e6be4d668f",
   "metadata": {},
   "outputs": [],
   "source": [
    "xgb = XGBClassifier(random_state=SEED,learning_rate=0.02, n_estimators=1000, objective='binary:logistic', nthread=6, tree_method='gpu_hist', eval_metric='auc')\n",
    "random_search = GridSearchCV(xgb, param_grid=best_params, scoring='roc_auc', n_jobs=8, cv=cv, verbose=10)"
   ]
  },
  {
   "cell_type": "code",
   "execution_count": 16,
   "id": "49a77404-57f8-4ecc-9bd9-ada3b10ba9fb",
   "metadata": {},
   "outputs": [],
   "source": [
    "model = make_pipeline(preprocessor, random_search)"
   ]
  },
  {
   "cell_type": "code",
   "execution_count": 17,
   "id": "c73d1c9f-cd8a-4735-b2fe-55e7511eaf3c",
   "metadata": {},
   "outputs": [
    {
     "name": "stdout",
     "output_type": "stream",
     "text": [
      "Fitting 2 folds for each of 1 candidates, totalling 2 fits\n"
     ]
    },
    {
     "data": {
      "text/html": [
       "<style>#sk-container-id-1 {color: black;background-color: white;}#sk-container-id-1 pre{padding: 0;}#sk-container-id-1 div.sk-toggleable {background-color: white;}#sk-container-id-1 label.sk-toggleable__label {cursor: pointer;display: block;width: 100%;margin-bottom: 0;padding: 0.3em;box-sizing: border-box;text-align: center;}#sk-container-id-1 label.sk-toggleable__label-arrow:before {content: \"▸\";float: left;margin-right: 0.25em;color: #696969;}#sk-container-id-1 label.sk-toggleable__label-arrow:hover:before {color: black;}#sk-container-id-1 div.sk-estimator:hover label.sk-toggleable__label-arrow:before {color: black;}#sk-container-id-1 div.sk-toggleable__content {max-height: 0;max-width: 0;overflow: hidden;text-align: left;background-color: #f0f8ff;}#sk-container-id-1 div.sk-toggleable__content pre {margin: 0.2em;color: black;border-radius: 0.25em;background-color: #f0f8ff;}#sk-container-id-1 input.sk-toggleable__control:checked~div.sk-toggleable__content {max-height: 200px;max-width: 100%;overflow: auto;}#sk-container-id-1 input.sk-toggleable__control:checked~label.sk-toggleable__label-arrow:before {content: \"▾\";}#sk-container-id-1 div.sk-estimator input.sk-toggleable__control:checked~label.sk-toggleable__label {background-color: #d4ebff;}#sk-container-id-1 div.sk-label input.sk-toggleable__control:checked~label.sk-toggleable__label {background-color: #d4ebff;}#sk-container-id-1 input.sk-hidden--visually {border: 0;clip: rect(1px 1px 1px 1px);clip: rect(1px, 1px, 1px, 1px);height: 1px;margin: -1px;overflow: hidden;padding: 0;position: absolute;width: 1px;}#sk-container-id-1 div.sk-estimator {font-family: monospace;background-color: #f0f8ff;border: 1px dotted black;border-radius: 0.25em;box-sizing: border-box;margin-bottom: 0.5em;}#sk-container-id-1 div.sk-estimator:hover {background-color: #d4ebff;}#sk-container-id-1 div.sk-parallel-item::after {content: \"\";width: 100%;border-bottom: 1px solid gray;flex-grow: 1;}#sk-container-id-1 div.sk-label:hover label.sk-toggleable__label {background-color: #d4ebff;}#sk-container-id-1 div.sk-serial::before {content: \"\";position: absolute;border-left: 1px solid gray;box-sizing: border-box;top: 0;bottom: 0;left: 50%;z-index: 0;}#sk-container-id-1 div.sk-serial {display: flex;flex-direction: column;align-items: center;background-color: white;padding-right: 0.2em;padding-left: 0.2em;position: relative;}#sk-container-id-1 div.sk-item {position: relative;z-index: 1;}#sk-container-id-1 div.sk-parallel {display: flex;align-items: stretch;justify-content: center;background-color: white;position: relative;}#sk-container-id-1 div.sk-item::before, #sk-container-id-1 div.sk-parallel-item::before {content: \"\";position: absolute;border-left: 1px solid gray;box-sizing: border-box;top: 0;bottom: 0;left: 50%;z-index: -1;}#sk-container-id-1 div.sk-parallel-item {display: flex;flex-direction: column;z-index: 1;position: relative;background-color: white;}#sk-container-id-1 div.sk-parallel-item:first-child::after {align-self: flex-end;width: 50%;}#sk-container-id-1 div.sk-parallel-item:last-child::after {align-self: flex-start;width: 50%;}#sk-container-id-1 div.sk-parallel-item:only-child::after {width: 0;}#sk-container-id-1 div.sk-dashed-wrapped {border: 1px dashed gray;margin: 0 0.4em 0.5em 0.4em;box-sizing: border-box;padding-bottom: 0.4em;background-color: white;}#sk-container-id-1 div.sk-label label {font-family: monospace;font-weight: bold;display: inline-block;line-height: 1.2em;}#sk-container-id-1 div.sk-label-container {text-align: center;}#sk-container-id-1 div.sk-container {/* jupyter's `normalize.less` sets `[hidden] { display: none; }` but bootstrap.min.css set `[hidden] { display: none !important; }` so we also need the `!important` here to be able to override the default hidden behavior on the sphinx rendered scikit-learn.org. See: https://github.com/scikit-learn/scikit-learn/issues/21755 */display: inline-block !important;position: relative;}#sk-container-id-1 div.sk-text-repr-fallback {display: none;}</style><div id=\"sk-container-id-1\" class=\"sk-top-container\"><div class=\"sk-text-repr-fallback\"><pre>Pipeline(steps=[(&#x27;columntransformer&#x27;,\n",
       "                 ColumnTransformer(transformers=[(&#x27;label-encoder&#x27;,\n",
       "                                                  OrdinalEncoder(),\n",
       "                                                  [&#x27;gender&#x27;, &#x27;s11&#x27;, &#x27;s16&#x27;,\n",
       "                                                   &#x27;s17&#x27;, &#x27;s18&#x27;, &#x27;s48&#x27;, &#x27;s52&#x27;,\n",
       "                                                   &#x27;s69&#x27;, &#x27;s70&#x27;, &#x27;s71&#x27;]),\n",
       "                                                 (&#x27;standard_scaler&#x27;,\n",
       "                                                  StandardScaler(),\n",
       "                                                  [&#x27;n1&#x27;, &#x27;n2&#x27;, &#x27;n3&#x27;, &#x27;n5&#x27;, &#x27;n6&#x27;,\n",
       "                                                   &#x27;n7&#x27;, &#x27;n8&#x27;, &#x27;n9&#x27;,\n",
       "                                                   &#x27;n10&#x27;])])),\n",
       "                (&#x27;gridsearchcv&#x27;,\n",
       "                 GridSearchCV(cv=KFold(n_splits=2, random_state=30, shuffle=True),\n",
       "                              estimator=XGBC...\n",
       "                                                      max_leaves=None,\n",
       "                                                      min_child_weight=None,\n",
       "                                                      missing=nan,\n",
       "                                                      monotone_constraints=None,\n",
       "                                                      n_estimators=1000,\n",
       "                                                      n_jobs=None, nthread=6,\n",
       "                                                      num_parallel_tree=None,\n",
       "                                                      predictor=None,\n",
       "                                                      random_state=30,\n",
       "                                                      reg_alpha=None, ...),\n",
       "                              n_jobs=8,\n",
       "                              param_grid={&#x27;colsample_bytree&#x27;: [0.6],\n",
       "                                          &#x27;gamma&#x27;: [0.5],\n",
       "                                          &#x27;learning_rate&#x27;: [0.01],\n",
       "                                          &#x27;max_depth&#x27;: [5],\n",
       "                                          &#x27;min_child_weight&#x27;: [5],\n",
       "                                          &#x27;subsample&#x27;: [0.6]},\n",
       "                              scoring=&#x27;roc_auc&#x27;, verbose=10))])</pre><b>In a Jupyter environment, please rerun this cell to show the HTML representation or trust the notebook. <br />On GitHub, the HTML representation is unable to render, please try loading this page with nbviewer.org.</b></div><div class=\"sk-container\" hidden><div class=\"sk-item sk-dashed-wrapped\"><div class=\"sk-label-container\"><div class=\"sk-label sk-toggleable\"><input class=\"sk-toggleable__control sk-hidden--visually\" id=\"sk-estimator-id-1\" type=\"checkbox\" ><label for=\"sk-estimator-id-1\" class=\"sk-toggleable__label sk-toggleable__label-arrow\">Pipeline</label><div class=\"sk-toggleable__content\"><pre>Pipeline(steps=[(&#x27;columntransformer&#x27;,\n",
       "                 ColumnTransformer(transformers=[(&#x27;label-encoder&#x27;,\n",
       "                                                  OrdinalEncoder(),\n",
       "                                                  [&#x27;gender&#x27;, &#x27;s11&#x27;, &#x27;s16&#x27;,\n",
       "                                                   &#x27;s17&#x27;, &#x27;s18&#x27;, &#x27;s48&#x27;, &#x27;s52&#x27;,\n",
       "                                                   &#x27;s69&#x27;, &#x27;s70&#x27;, &#x27;s71&#x27;]),\n",
       "                                                 (&#x27;standard_scaler&#x27;,\n",
       "                                                  StandardScaler(),\n",
       "                                                  [&#x27;n1&#x27;, &#x27;n2&#x27;, &#x27;n3&#x27;, &#x27;n5&#x27;, &#x27;n6&#x27;,\n",
       "                                                   &#x27;n7&#x27;, &#x27;n8&#x27;, &#x27;n9&#x27;,\n",
       "                                                   &#x27;n10&#x27;])])),\n",
       "                (&#x27;gridsearchcv&#x27;,\n",
       "                 GridSearchCV(cv=KFold(n_splits=2, random_state=30, shuffle=True),\n",
       "                              estimator=XGBC...\n",
       "                                                      max_leaves=None,\n",
       "                                                      min_child_weight=None,\n",
       "                                                      missing=nan,\n",
       "                                                      monotone_constraints=None,\n",
       "                                                      n_estimators=1000,\n",
       "                                                      n_jobs=None, nthread=6,\n",
       "                                                      num_parallel_tree=None,\n",
       "                                                      predictor=None,\n",
       "                                                      random_state=30,\n",
       "                                                      reg_alpha=None, ...),\n",
       "                              n_jobs=8,\n",
       "                              param_grid={&#x27;colsample_bytree&#x27;: [0.6],\n",
       "                                          &#x27;gamma&#x27;: [0.5],\n",
       "                                          &#x27;learning_rate&#x27;: [0.01],\n",
       "                                          &#x27;max_depth&#x27;: [5],\n",
       "                                          &#x27;min_child_weight&#x27;: [5],\n",
       "                                          &#x27;subsample&#x27;: [0.6]},\n",
       "                              scoring=&#x27;roc_auc&#x27;, verbose=10))])</pre></div></div></div><div class=\"sk-serial\"><div class=\"sk-item sk-dashed-wrapped\"><div class=\"sk-label-container\"><div class=\"sk-label sk-toggleable\"><input class=\"sk-toggleable__control sk-hidden--visually\" id=\"sk-estimator-id-2\" type=\"checkbox\" ><label for=\"sk-estimator-id-2\" class=\"sk-toggleable__label sk-toggleable__label-arrow\">columntransformer: ColumnTransformer</label><div class=\"sk-toggleable__content\"><pre>ColumnTransformer(transformers=[(&#x27;label-encoder&#x27;, OrdinalEncoder(),\n",
       "                                 [&#x27;gender&#x27;, &#x27;s11&#x27;, &#x27;s16&#x27;, &#x27;s17&#x27;, &#x27;s18&#x27;, &#x27;s48&#x27;,\n",
       "                                  &#x27;s52&#x27;, &#x27;s69&#x27;, &#x27;s70&#x27;, &#x27;s71&#x27;]),\n",
       "                                (&#x27;standard_scaler&#x27;, StandardScaler(),\n",
       "                                 [&#x27;n1&#x27;, &#x27;n2&#x27;, &#x27;n3&#x27;, &#x27;n5&#x27;, &#x27;n6&#x27;, &#x27;n7&#x27;, &#x27;n8&#x27;,\n",
       "                                  &#x27;n9&#x27;, &#x27;n10&#x27;])])</pre></div></div></div><div class=\"sk-parallel\"><div class=\"sk-parallel-item\"><div class=\"sk-item\"><div class=\"sk-label-container\"><div class=\"sk-label sk-toggleable\"><input class=\"sk-toggleable__control sk-hidden--visually\" id=\"sk-estimator-id-3\" type=\"checkbox\" ><label for=\"sk-estimator-id-3\" class=\"sk-toggleable__label sk-toggleable__label-arrow\">label-encoder</label><div class=\"sk-toggleable__content\"><pre>[&#x27;gender&#x27;, &#x27;s11&#x27;, &#x27;s16&#x27;, &#x27;s17&#x27;, &#x27;s18&#x27;, &#x27;s48&#x27;, &#x27;s52&#x27;, &#x27;s69&#x27;, &#x27;s70&#x27;, &#x27;s71&#x27;]</pre></div></div></div><div class=\"sk-serial\"><div class=\"sk-item\"><div class=\"sk-estimator sk-toggleable\"><input class=\"sk-toggleable__control sk-hidden--visually\" id=\"sk-estimator-id-4\" type=\"checkbox\" ><label for=\"sk-estimator-id-4\" class=\"sk-toggleable__label sk-toggleable__label-arrow\">OrdinalEncoder</label><div class=\"sk-toggleable__content\"><pre>OrdinalEncoder()</pre></div></div></div></div></div></div><div class=\"sk-parallel-item\"><div class=\"sk-item\"><div class=\"sk-label-container\"><div class=\"sk-label sk-toggleable\"><input class=\"sk-toggleable__control sk-hidden--visually\" id=\"sk-estimator-id-5\" type=\"checkbox\" ><label for=\"sk-estimator-id-5\" class=\"sk-toggleable__label sk-toggleable__label-arrow\">standard_scaler</label><div class=\"sk-toggleable__content\"><pre>[&#x27;n1&#x27;, &#x27;n2&#x27;, &#x27;n3&#x27;, &#x27;n5&#x27;, &#x27;n6&#x27;, &#x27;n7&#x27;, &#x27;n8&#x27;, &#x27;n9&#x27;, &#x27;n10&#x27;]</pre></div></div></div><div class=\"sk-serial\"><div class=\"sk-item\"><div class=\"sk-estimator sk-toggleable\"><input class=\"sk-toggleable__control sk-hidden--visually\" id=\"sk-estimator-id-6\" type=\"checkbox\" ><label for=\"sk-estimator-id-6\" class=\"sk-toggleable__label sk-toggleable__label-arrow\">StandardScaler</label><div class=\"sk-toggleable__content\"><pre>StandardScaler()</pre></div></div></div></div></div></div></div></div><div class=\"sk-item sk-dashed-wrapped\"><div class=\"sk-label-container\"><div class=\"sk-label sk-toggleable\"><input class=\"sk-toggleable__control sk-hidden--visually\" id=\"sk-estimator-id-7\" type=\"checkbox\" ><label for=\"sk-estimator-id-7\" class=\"sk-toggleable__label sk-toggleable__label-arrow\">gridsearchcv: GridSearchCV</label><div class=\"sk-toggleable__content\"><pre>GridSearchCV(cv=KFold(n_splits=2, random_state=30, shuffle=True),\n",
       "             estimator=XGBClassifier(base_score=None, booster=None,\n",
       "                                     callbacks=None, colsample_bylevel=None,\n",
       "                                     colsample_bynode=None,\n",
       "                                     colsample_bytree=None,\n",
       "                                     early_stopping_rounds=None,\n",
       "                                     enable_categorical=False,\n",
       "                                     eval_metric=&#x27;auc&#x27;, gamma=None, gpu_id=None,\n",
       "                                     grow_policy=None, importance_type=None,\n",
       "                                     interaction_constrain...\n",
       "                                     max_leaves=None, min_child_weight=None,\n",
       "                                     missing=nan, monotone_constraints=None,\n",
       "                                     n_estimators=1000, n_jobs=None, nthread=6,\n",
       "                                     num_parallel_tree=None, predictor=None,\n",
       "                                     random_state=30, reg_alpha=None, ...),\n",
       "             n_jobs=8,\n",
       "             param_grid={&#x27;colsample_bytree&#x27;: [0.6], &#x27;gamma&#x27;: [0.5],\n",
       "                         &#x27;learning_rate&#x27;: [0.01], &#x27;max_depth&#x27;: [5],\n",
       "                         &#x27;min_child_weight&#x27;: [5], &#x27;subsample&#x27;: [0.6]},\n",
       "             scoring=&#x27;roc_auc&#x27;, verbose=10)</pre></div></div></div><div class=\"sk-parallel\"><div class=\"sk-parallel-item\"><div class=\"sk-item\"><div class=\"sk-label-container\"><div class=\"sk-label sk-toggleable\"><input class=\"sk-toggleable__control sk-hidden--visually\" id=\"sk-estimator-id-8\" type=\"checkbox\" ><label for=\"sk-estimator-id-8\" class=\"sk-toggleable__label sk-toggleable__label-arrow\">estimator: XGBClassifier</label><div class=\"sk-toggleable__content\"><pre>XGBClassifier(base_score=None, booster=None, callbacks=None,\n",
       "              colsample_bylevel=None, colsample_bynode=None,\n",
       "              colsample_bytree=None, early_stopping_rounds=None,\n",
       "              enable_categorical=False, eval_metric=&#x27;auc&#x27;, gamma=None,\n",
       "              gpu_id=None, grow_policy=None, importance_type=None,\n",
       "              interaction_constraints=None, learning_rate=0.02, max_bin=None,\n",
       "              max_cat_to_onehot=None, max_delta_step=None, max_depth=None,\n",
       "              max_leaves=None, min_child_weight=None, missing=nan,\n",
       "              monotone_constraints=None, n_estimators=1000, n_jobs=None,\n",
       "              nthread=6, num_parallel_tree=None, predictor=None,\n",
       "              random_state=30, reg_alpha=None, ...)</pre></div></div></div><div class=\"sk-serial\"><div class=\"sk-item\"><div class=\"sk-estimator sk-toggleable\"><input class=\"sk-toggleable__control sk-hidden--visually\" id=\"sk-estimator-id-9\" type=\"checkbox\" ><label for=\"sk-estimator-id-9\" class=\"sk-toggleable__label sk-toggleable__label-arrow\">XGBClassifier</label><div class=\"sk-toggleable__content\"><pre>XGBClassifier(base_score=None, booster=None, callbacks=None,\n",
       "              colsample_bylevel=None, colsample_bynode=None,\n",
       "              colsample_bytree=None, early_stopping_rounds=None,\n",
       "              enable_categorical=False, eval_metric=&#x27;auc&#x27;, gamma=None,\n",
       "              gpu_id=None, grow_policy=None, importance_type=None,\n",
       "              interaction_constraints=None, learning_rate=0.02, max_bin=None,\n",
       "              max_cat_to_onehot=None, max_delta_step=None, max_depth=None,\n",
       "              max_leaves=None, min_child_weight=None, missing=nan,\n",
       "              monotone_constraints=None, n_estimators=1000, n_jobs=None,\n",
       "              nthread=6, num_parallel_tree=None, predictor=None,\n",
       "              random_state=30, reg_alpha=None, ...)</pre></div></div></div></div></div></div></div></div></div></div></div></div>"
      ],
      "text/plain": [
       "Pipeline(steps=[('columntransformer',\n",
       "                 ColumnTransformer(transformers=[('label-encoder',\n",
       "                                                  OrdinalEncoder(),\n",
       "                                                  ['gender', 's11', 's16',\n",
       "                                                   's17', 's18', 's48', 's52',\n",
       "                                                   's69', 's70', 's71']),\n",
       "                                                 ('standard_scaler',\n",
       "                                                  StandardScaler(),\n",
       "                                                  ['n1', 'n2', 'n3', 'n5', 'n6',\n",
       "                                                   'n7', 'n8', 'n9',\n",
       "                                                   'n10'])])),\n",
       "                ('gridsearchcv',\n",
       "                 GridSearchCV(cv=KFold(n_splits=2, random_state=30, shuffle=True),\n",
       "                              estimator=XGBC...\n",
       "                                                      max_leaves=None,\n",
       "                                                      min_child_weight=None,\n",
       "                                                      missing=nan,\n",
       "                                                      monotone_constraints=None,\n",
       "                                                      n_estimators=1000,\n",
       "                                                      n_jobs=None, nthread=6,\n",
       "                                                      num_parallel_tree=None,\n",
       "                                                      predictor=None,\n",
       "                                                      random_state=30,\n",
       "                                                      reg_alpha=None, ...),\n",
       "                              n_jobs=8,\n",
       "                              param_grid={'colsample_bytree': [0.6],\n",
       "                                          'gamma': [0.5],\n",
       "                                          'learning_rate': [0.01],\n",
       "                                          'max_depth': [5],\n",
       "                                          'min_child_weight': [5],\n",
       "                                          'subsample': [0.6]},\n",
       "                              scoring='roc_auc', verbose=10))])"
      ]
     },
     "execution_count": 17,
     "metadata": {},
     "output_type": "execute_result"
    }
   ],
   "source": [
    "model.fit(X_train, y_train)"
   ]
  },
  {
   "cell_type": "code",
   "execution_count": 18,
   "id": "58f7fa9c-f127-439c-a346-37fbac4ddeef",
   "metadata": {},
   "outputs": [],
   "source": [
    "pred = model.predict(X_test)"
   ]
  },
  {
   "cell_type": "code",
   "execution_count": 19,
   "id": "78c3be1c-71e9-442a-afb4-c5dc7b46d976",
   "metadata": {},
   "outputs": [
    {
     "data": {
      "text/plain": [
       "0.8707785916987185"
      ]
     },
     "execution_count": 19,
     "metadata": {},
     "output_type": "execute_result"
    }
   ],
   "source": [
    "model.score(X_test, y_test)"
   ]
  },
  {
   "cell_type": "code",
   "execution_count": 20,
   "id": "58746c59-f078-47cd-a078-bf09596ff1ef",
   "metadata": {},
   "outputs": [
    {
     "data": {
      "text/plain": [
       "0.7245736482749016"
      ]
     },
     "execution_count": 20,
     "metadata": {},
     "output_type": "execute_result"
    }
   ],
   "source": [
    "roc_auc_score(y_test, pred)"
   ]
  },
  {
   "cell_type": "code",
   "execution_count": 21,
   "id": "173a5122-177a-4c94-8a8d-a1c786b6cf8a",
   "metadata": {},
   "outputs": [],
   "source": [
    "testid = pd.read_csv('../data/test.csv')\n",
    "test_pred = model.predict(test)\n",
    "submission = pd.concat([testid['id'],pd.Series(test_pred)],axis=1)\n",
    "submission.columns = ['id', 'label']\n",
    "submission.to_csv('submission.csv', index=False)"
   ]
  },
  {
   "cell_type": "code",
   "execution_count": null,
   "id": "fa124d2b-ba7a-45ca-9f2a-57504912b365",
   "metadata": {},
   "outputs": [],
   "source": []
  }
 ],
 "metadata": {
  "kernelspec": {
   "display_name": "Python 3 (ipykernel)",
   "language": "python",
   "name": "python3"
  },
  "language_info": {
   "codemirror_mode": {
    "name": "ipython",
    "version": 3
   },
   "file_extension": ".py",
   "mimetype": "text/x-python",
   "name": "python",
   "nbconvert_exporter": "python",
   "pygments_lexer": "ipython3",
   "version": "3.9.5"
  }
 },
 "nbformat": 4,
 "nbformat_minor": 5
}
